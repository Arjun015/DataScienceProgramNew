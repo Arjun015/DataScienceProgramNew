{
 "cells": [
  {
   "cell_type": "code",
   "execution_count": 1,
   "id": "6e59a16f",
   "metadata": {},
   "outputs": [],
   "source": [
    "import numpy as np"
   ]
  },
  {
   "cell_type": "code",
   "execution_count": 5,
   "id": "08e08eeb",
   "metadata": {},
   "outputs": [],
   "source": [
    "#what is numpy attributes ?\n",
    "#1.NumPy attributes are properties or characteristics associated with NumPy arrays. \n",
    "#2.These attributes provide important information about the array's shape, size, data type, \n",
    "#       memory layout, and other relevant metadata.\n",
    "#3.Understanding and utilizing NumPy attributes is crucial for efficient array manipulation, \n",
    "#                           data analysis, and numerical computation tasks.\n",
    "\n",
    "\n",
    "\n",
    "#Some commonly used NumPy attributes include:-\n",
    "\n",
    "# shape: This attribute returns a tuple indicating the size of each dimension of the array. For example, for a 2D array, shape will be (rows, columns).\n",
    "\n",
    "# dtype: The dtype attribute specifies the data type of the elements stored in the array, such as integer, float, etc.\n",
    "\n",
    "# size: The size attribute represents the total number of elements in the array.\n",
    "\n",
    "# ndim: This attribute returns the number of dimensions (axes) of the array.\n",
    "\n",
    "# itemsize: The itemsize attribute specifies the size in bytes of each element in the array.\n",
    "\n",
    "# nbytes: This attribute returns the total number of bytes consumed by the elements of the array.\n",
    "\n",
    "# strides: The strides attribute indicates the number of bytes to step in each dimension when traversing the array.\n",
    "\n",
    "# flags: The flags attribute provides information about memory layout, such as whether the array is contiguous or not.\n",
    "\n",
    "# data: The data attribute is a buffer object pointing to the start of the array's data."
   ]
  },
  {
   "cell_type": "code",
   "execution_count": 4,
   "id": "ad442160",
   "metadata": {},
   "outputs": [],
   "source": [
    "# significance of numpy attributes:\n",
    "\n",
    "# These attributes play a significant role in various aspects of array manipulation and computation. For example:\n",
    "\n",
    "# Shape and Size: They help in understanding the array's dimensions and the total number of elements,\n",
    "#                  which is essential for reshaping, indexing, and slicing arrays.\n",
    "\n",
    "# Data Type: It ensures that operations are performed with appropriate data types,\n",
    "#             preventing errors and optimizing memory usage.\n",
    "\n",
    "# Memory Layout: Information about strides and memory layout aids in optimizing performance, \n",
    "#               especially when dealing with large arrays and memory efficiency.\n",
    "\n",
    "# Buffer Handling: The data attribute provides direct access to the underlying memory buffer, facilitating interoperability with other \n",
    "#     libraries and efficient data processing."
   ]
  },
  {
   "cell_type": "code",
   "execution_count": 7,
   "id": "8d5e5daf",
   "metadata": {},
   "outputs": [
    {
     "name": "stdout",
     "output_type": "stream",
     "text": [
      "[11, 22, 33, 44, 55]\n",
      "<class 'list'>\n"
     ]
    }
   ],
   "source": [
    "a1 = [11,22,33,44,55]\n",
    "print(a1)\n",
    "print(type(a1))"
   ]
  },
  {
   "cell_type": "code",
   "execution_count": 15,
   "id": "4ea65283",
   "metadata": {},
   "outputs": [
    {
     "name": "stdout",
     "output_type": "stream",
     "text": [
      "[11 22 33 44 55]\n",
      "<class 'numpy.ndarray'>\n"
     ]
    }
   ],
   "source": [
    "arr1 = np.array(a1) # Converting list into array.\n",
    "print(arr1)\n",
    "print(type(arr1))"
   ]
  },
  {
   "cell_type": "markdown",
   "id": "ba813576",
   "metadata": {},
   "source": [
    "# what is difference between Array Vs list"
   ]
  },
  {
   "cell_type": "code",
   "execution_count": null,
   "id": "100b9d77",
   "metadata": {},
   "outputs": [],
   "source": [
    "# Certainly! Here's a concise differentiation between arrays and lists in Python presented in a column format:\n",
    "\n",
    "# | Attribute       | Array                        | List                         |\n",
    "# |-----------------|------------------------------|------------------------------|\n",
    "# | **Data Structure** | Homogeneous (elements are of the same type) | Heterogeneous (elements can be of different types) |\n",
    "# | **Mutable**       | Yes                          | Yes                          |\n",
    "# | **Length**        | Fixed (after initialization) | Variable                     |\n",
    "# | **Performance**   | Faster (optimized for numerical operations) | Slower (optimized for flexibility) |\n",
    "# | **Functions**     | NumPy library provides extensive functions for array manipulation | Limited built-in functions for lists |\n",
    "# | **Syntax**        | Uses array creation functions from NumPy library | Uses square brackets `[ ]` for creation and manipulation |\n",
    "# | **Memory Usage**  | More memory-efficient due to contiguous storage | Less memory-efficient due to dynamic storage allocation |\n",
    "\n",
    "# This comparison highlights some key differences between arrays and lists in Python, including their data structure, mutability, length, performance, available functions, syntax, and memory usage."
   ]
  },
  {
   "cell_type": "code",
   "execution_count": 16,
   "id": "dc009851",
   "metadata": {},
   "outputs": [
    {
     "name": "stdout",
     "output_type": "stream",
     "text": [
      "<class 'list'>\n"
     ]
    }
   ],
   "source": [
    "a2 = [1,2,3,4,5,6]\n",
    "print(type(a2))"
   ]
  },
  {
   "cell_type": "code",
   "execution_count": 17,
   "id": "2355eef8",
   "metadata": {},
   "outputs": [
    {
     "name": "stdout",
     "output_type": "stream",
     "text": [
      "<class 'numpy.ndarray'>\n"
     ]
    }
   ],
   "source": [
    "arr2 = np.array(a2) #converting list into array\n",
    "print(type(arr2))\n"
   ]
  },
  {
   "cell_type": "markdown",
   "id": "c9650a1e",
   "metadata": {},
   "source": [
    "#typecasting Example from Python basics\n",
    "number =1000\n",
    "yy = str(number) # number is converted into the string\n",
    "print(yy)\n",
    "print(type(yy))\n"
   ]
  },
  {
   "cell_type": "code",
   "execution_count": 21,
   "id": "6ecd91b3",
   "metadata": {},
   "outputs": [
    {
     "name": "stdout",
     "output_type": "stream",
     "text": [
      "<class 'str'>\n"
     ]
    }
   ],
   "source": [
    "numA = 2300\n",
    "print(type(str(numA)))"
   ]
  },
  {
   "cell_type": "markdown",
   "id": "ef0a254d",
   "metadata": {},
   "source": [
    "# ElementWise Operation"
   ]
  },
  {
   "cell_type": "code",
   "execution_count": 22,
   "id": "6604c9e7",
   "metadata": {},
   "outputs": [
    {
     "name": "stdout",
     "output_type": "stream",
     "text": [
      "200\n",
      "400\n",
      "600\n",
      "800\n",
      "1000\n"
     ]
    }
   ],
   "source": [
    "s1 = [100,200,300,400,500]\n",
    "for i in s1:\n",
    "    print(i*2)"
   ]
  },
  {
   "cell_type": "code",
   "execution_count": 24,
   "id": "3c31b30b",
   "metadata": {},
   "outputs": [
    {
     "name": "stdout",
     "output_type": "stream",
     "text": [
      "10000\n",
      "40000\n",
      "90000\n",
      "160000\n",
      "250000\n"
     ]
    }
   ],
   "source": [
    "for i in s1:\n",
    "    print(i** 2)"
   ]
  },
  {
   "cell_type": "code",
   "execution_count": 25,
   "id": "075cade0",
   "metadata": {},
   "outputs": [
    {
     "name": "stdout",
     "output_type": "stream",
     "text": [
      "1000000\n",
      "8000000\n",
      "27000000\n",
      "64000000\n",
      "125000000\n"
     ]
    }
   ],
   "source": [
    "for i in s1:\n",
    "    print(i**3)"
   ]
  },
  {
   "cell_type": "code",
   "execution_count": 26,
   "id": "80889044",
   "metadata": {},
   "outputs": [
    {
     "name": "stdout",
     "output_type": "stream",
     "text": [
      "[10000, 40000, 90000, 160000, 250000]\n"
     ]
    }
   ],
   "source": [
    "# list comprehension\n",
    "\n",
    "aa = [i ** 2 for i in s1]\n",
    "print(aa)"
   ]
  },
  {
   "cell_type": "code",
   "execution_count": 27,
   "id": "b0fe5692",
   "metadata": {},
   "outputs": [
    {
     "name": "stdout",
     "output_type": "stream",
     "text": [
      "[1000000, 8000000, 27000000, 64000000, 125000000]\n"
     ]
    }
   ],
   "source": [
    "bb = [i**3 for i in s1]\n",
    "print(bb)"
   ]
  },
  {
   "cell_type": "code",
   "execution_count": 28,
   "id": "070ad920",
   "metadata": {},
   "outputs": [
    {
     "ename": "TypeError",
     "evalue": "'cc' is an invalid keyword argument for print()",
     "output_type": "error",
     "traceback": [
      "\u001b[1;31m---------------------------------------------------------------------------\u001b[0m",
      "\u001b[1;31mTypeError\u001b[0m                                 Traceback (most recent call last)",
      "Cell \u001b[1;32mIn[28], line 1\u001b[0m\n\u001b[1;32m----> 1\u001b[0m \u001b[38;5;28mprint\u001b[39m(cc \u001b[38;5;241m=\u001b[39m [i\u001b[38;5;241m*\u001b[39m\u001b[38;5;241m*\u001b[39m\u001b[38;5;241m3\u001b[39m \u001b[38;5;28;01mfor\u001b[39;00m i \u001b[38;5;129;01min\u001b[39;00m s1])\n",
      "\u001b[1;31mTypeError\u001b[0m: 'cc' is an invalid keyword argument for print()"
     ]
    }
   ],
   "source": [
    "print(cc = [i**3 for i in s1])\n"
   ]
  },
  {
   "cell_type": "code",
   "execution_count": 29,
   "id": "27144cef",
   "metadata": {},
   "outputs": [
    {
     "name": "stdout",
     "output_type": "stream",
     "text": [
      "[10000000000, 320000000000, 2430000000000, 10240000000000, 31250000000000]\n"
     ]
    }
   ],
   "source": [
    "cc = [i**5 for i in s1]\n",
    "print(cc)"
   ]
  },
  {
   "cell_type": "code",
   "execution_count": 30,
   "id": "6684426d",
   "metadata": {},
   "outputs": [
    {
     "data": {
      "text/plain": [
       "array([11, 22, 33, 44, 55])"
      ]
     },
     "execution_count": 30,
     "metadata": {},
     "output_type": "execute_result"
    }
   ],
   "source": [
    "arr1"
   ]
  },
  {
   "cell_type": "code",
   "execution_count": 31,
   "id": "d4d1a2a8",
   "metadata": {},
   "outputs": [
    {
     "data": {
      "text/plain": [
       "array([ 22,  44,  66,  88, 110])"
      ]
     },
     "execution_count": 31,
     "metadata": {},
     "output_type": "execute_result"
    }
   ],
   "source": [
    "arr1 * 2"
   ]
  },
  {
   "cell_type": "code",
   "execution_count": 32,
   "id": "8669b982",
   "metadata": {},
   "outputs": [
    {
     "data": {
      "text/plain": [
       "array([ 121,  484, 1089, 1936, 3025])"
      ]
     },
     "execution_count": 32,
     "metadata": {},
     "output_type": "execute_result"
    }
   ],
   "source": [
    "arr1 **2"
   ]
  },
  {
   "cell_type": "code",
   "execution_count": 33,
   "id": "829a2a42",
   "metadata": {},
   "outputs": [
    {
     "data": {
      "text/plain": [
       "array([ 22,  44,  66,  88, 110])"
      ]
     },
     "execution_count": 33,
     "metadata": {},
     "output_type": "execute_result"
    }
   ],
   "source": [
    "arr1 + arr1"
   ]
  },
  {
   "cell_type": "code",
   "execution_count": 34,
   "id": "7f2fc5bb",
   "metadata": {},
   "outputs": [
    {
     "data": {
      "text/plain": [
       "array([ 121,  484, 1089, 1936, 3025])"
      ]
     },
     "execution_count": 34,
     "metadata": {},
     "output_type": "execute_result"
    }
   ],
   "source": [
    "arr1 * arr1"
   ]
  },
  {
   "cell_type": "code",
   "execution_count": 35,
   "id": "95de2838",
   "metadata": {},
   "outputs": [
    {
     "data": {
      "text/plain": [
       "array([0, 0, 0, 0, 0])"
      ]
     },
     "execution_count": 35,
     "metadata": {},
     "output_type": "execute_result"
    }
   ],
   "source": [
    "arr1 - arr1"
   ]
  },
  {
   "cell_type": "code",
   "execution_count": 36,
   "id": "d571cc55",
   "metadata": {},
   "outputs": [
    {
     "ename": "ValueError",
     "evalue": "operands could not be broadcast together with shapes (5,) (6,) ",
     "output_type": "error",
     "traceback": [
      "\u001b[1;31m---------------------------------------------------------------------------\u001b[0m",
      "\u001b[1;31mValueError\u001b[0m                                Traceback (most recent call last)",
      "Cell \u001b[1;32mIn[36], line 1\u001b[0m\n\u001b[1;32m----> 1\u001b[0m arr1\u001b[38;5;241m/\u001b[39marr2\n",
      "\u001b[1;31mValueError\u001b[0m: operands could not be broadcast together with shapes (5,) (6,) "
     ]
    }
   ],
   "source": [
    "arr1/arr2"
   ]
  },
  {
   "cell_type": "code",
   "execution_count": null,
   "id": "84894523",
   "metadata": {},
   "outputs": [],
   "source": []
  }
 ],
 "metadata": {
  "kernelspec": {
   "display_name": "Python 3 (ipykernel)",
   "language": "python",
   "name": "python3"
  },
  "language_info": {
   "codemirror_mode": {
    "name": "ipython",
    "version": 3
   },
   "file_extension": ".py",
   "mimetype": "text/x-python",
   "name": "python",
   "nbconvert_exporter": "python",
   "pygments_lexer": "ipython3",
   "version": "3.11.3"
  }
 },
 "nbformat": 4,
 "nbformat_minor": 5
}
