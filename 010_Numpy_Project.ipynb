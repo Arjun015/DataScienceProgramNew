{
 "cells": [
  {
   "cell_type": "code",
   "execution_count": 1,
   "id": "768c379d",
   "metadata": {},
   "outputs": [],
   "source": [
    "import numpy as np"
   ]
  },
  {
   "cell_type": "code",
   "execution_count": 2,
   "id": "888bdabf",
   "metadata": {},
   "outputs": [],
   "source": [
    "data = np.loadtxt('fitbit.txt',dtype = \"str\")"
   ]
  },
  {
   "cell_type": "code",
   "execution_count": 3,
   "id": "e882ec96",
   "metadata": {},
   "outputs": [
    {
     "data": {
      "text/plain": [
       "array([['06-10-2017', '5464', '200', '181', '6', '0', '68'],\n",
       "       ['07-10-2017', '7167', '200', '208', '6', '0', '68'],\n",
       "       ['08-10-2017', '9874', '300', '341', '5', '0', '68'],\n",
       "       ['09-10-2017', '4969', '100', '190', '8', '0', '68'],\n",
       "       ['10-10-2017', '8538', '300', '307', '5', '0', '68'],\n",
       "       ['11-10-2017', '9875', '300', '302', '5', '0', '68'],\n",
       "       ['12-10-2017', '4662', '100', '198', '8', '0', '68'],\n",
       "       ['13-10-2017', '6310', '200', '201', '6', '0', '68'],\n",
       "       ['14-10-2017', '7556', '200', '195', '6', '0', '68'],\n",
       "       ['15-10-2017', '9073', '300', '327', '5', '0', '68'],\n",
       "       ['16-10-2017', '9690', '300', '331', '5', '0', '68'],\n",
       "       ['17-10-2017', '9146', '300', '318', '5', '0', '68'],\n",
       "       ['18-10-2017', '9752', '300', '344', '5', '0', '68'],\n",
       "       ['19-10-2017', '6974', '200', '204', '6', '0', '68'],\n",
       "       ['20-10-2017', '5619', '200', '180', '6', '0', '68'],\n",
       "       ['21-10-2017', '6889', '200', '201', '6', '0', '68'],\n",
       "       ['22-10-2017', '8616', '300', '329', '5', '0', '68'],\n",
       "       ['23-10-2017', '9131', '300', '315', '5', '0', '68'],\n",
       "       ['24-10-2017', '4211', '100', '197', '8', '0', '68'],\n",
       "       ['25-10-2017', '4291', '100', '184', '8', '0', '68'],\n",
       "       ['26-10-2017', '8569', '300', '328', '5', '0', '68'],\n",
       "       ['27-10-2017', '9337', '300', '322', '5', '0', '68'],\n",
       "       ['28-10-2017', '8475', '300', '327', '5', '0', '68'],\n",
       "       ['29-10-2017', '4510', '100', '148', '8', '0', '68'],\n",
       "       ['30-10-2017', '6347', '200', '235', '6', '0', '68'],\n",
       "       ['31-10-2017', '5911', '200', '184', '6', '0', '68']], dtype='<U10')"
      ]
     },
     "execution_count": 3,
     "metadata": {},
     "output_type": "execute_result"
    }
   ],
   "source": [
    "data"
   ]
  },
  {
   "cell_type": "code",
   "execution_count": 4,
   "id": "f62b006e",
   "metadata": {},
   "outputs": [],
   "source": [
    "# numpy array is ?\n",
    "#  a. Homogenous array\n",
    "#  b . Hetrogenous array\n",
    "\n",
    "\n",
    "# List is Hetrogenous\n",
    "# numpy array is Homogenous"
   ]
  },
  {
   "cell_type": "code",
   "execution_count": 5,
   "id": "76ca1601",
   "metadata": {},
   "outputs": [
    {
     "data": {
      "text/plain": [
       "array([['06-10-2017', '5464', '200', '181', '6', '0', '68'],\n",
       "       ['07-10-2017', '7167', '200', '208', '6', '0', '68'],\n",
       "       ['08-10-2017', '9874', '300', '341', '5', '0', '68'],\n",
       "       ['09-10-2017', '4969', '100', '190', '8', '0', '68'],\n",
       "       ['10-10-2017', '8538', '300', '307', '5', '0', '68'],\n",
       "       ['11-10-2017', '9875', '300', '302', '5', '0', '68'],\n",
       "       ['12-10-2017', '4662', '100', '198', '8', '0', '68'],\n",
       "       ['13-10-2017', '6310', '200', '201', '6', '0', '68'],\n",
       "       ['14-10-2017', '7556', '200', '195', '6', '0', '68'],\n",
       "       ['15-10-2017', '9073', '300', '327', '5', '0', '68'],\n",
       "       ['16-10-2017', '9690', '300', '331', '5', '0', '68'],\n",
       "       ['17-10-2017', '9146', '300', '318', '5', '0', '68'],\n",
       "       ['18-10-2017', '9752', '300', '344', '5', '0', '68'],\n",
       "       ['19-10-2017', '6974', '200', '204', '6', '0', '68'],\n",
       "       ['20-10-2017', '5619', '200', '180', '6', '0', '68'],\n",
       "       ['21-10-2017', '6889', '200', '201', '6', '0', '68'],\n",
       "       ['22-10-2017', '8616', '300', '329', '5', '0', '68'],\n",
       "       ['23-10-2017', '9131', '300', '315', '5', '0', '68'],\n",
       "       ['24-10-2017', '4211', '100', '197', '8', '0', '68'],\n",
       "       ['25-10-2017', '4291', '100', '184', '8', '0', '68'],\n",
       "       ['26-10-2017', '8569', '300', '328', '5', '0', '68'],\n",
       "       ['27-10-2017', '9337', '300', '322', '5', '0', '68'],\n",
       "       ['28-10-2017', '8475', '300', '327', '5', '0', '68'],\n",
       "       ['29-10-2017', '4510', '100', '148', '8', '0', '68'],\n",
       "       ['30-10-2017', '6347', '200', '235', '6', '0', '68'],\n",
       "       ['31-10-2017', '5911', '200', '184', '6', '0', '68']], dtype='<U10')"
      ]
     },
     "execution_count": 5,
     "metadata": {},
     "output_type": "execute_result"
    }
   ],
   "source": [
    "data"
   ]
  },
  {
   "cell_type": "code",
   "execution_count": 6,
   "id": "46e5c550",
   "metadata": {},
   "outputs": [
    {
     "data": {
      "text/plain": [
       "2"
      ]
     },
     "execution_count": 6,
     "metadata": {},
     "output_type": "execute_result"
    }
   ],
   "source": [
    "data.ndim"
   ]
  },
  {
   "cell_type": "code",
   "execution_count": 7,
   "id": "cffeb313",
   "metadata": {},
   "outputs": [
    {
     "data": {
      "text/plain": [
       "182"
      ]
     },
     "execution_count": 7,
     "metadata": {},
     "output_type": "execute_result"
    }
   ],
   "source": [
    "data.size"
   ]
  },
  {
   "cell_type": "code",
   "execution_count": 8,
   "id": "f1e4bbd2",
   "metadata": {},
   "outputs": [
    {
     "data": {
      "text/plain": [
       "(26, 7)"
      ]
     },
     "execution_count": 8,
     "metadata": {},
     "output_type": "execute_result"
    }
   ],
   "source": [
    "data.shape"
   ]
  },
  {
   "cell_type": "code",
   "execution_count": 9,
   "id": "bb740567",
   "metadata": {},
   "outputs": [
    {
     "data": {
      "text/plain": [
       "array(['06-10-2017', '5464', '200', '181', '6', '0', '68'], dtype='<U10')"
      ]
     },
     "execution_count": 9,
     "metadata": {},
     "output_type": "execute_result"
    }
   ],
   "source": [
    "data[0]"
   ]
  },
  {
   "cell_type": "code",
   "execution_count": 10,
   "id": "3fb85b62",
   "metadata": {},
   "outputs": [
    {
     "data": {
      "text/plain": [
       "array(['10-10-2017', '8538', '300', '307', '5', '0', '68'], dtype='<U10')"
      ]
     },
     "execution_count": 10,
     "metadata": {},
     "output_type": "execute_result"
    }
   ],
   "source": [
    "data[4\n",
    "    ]"
   ]
  },
  {
   "cell_type": "code",
   "execution_count": 11,
   "id": "847293df",
   "metadata": {},
   "outputs": [
    {
     "data": {
      "text/plain": [
       "dtype('<U10')"
      ]
     },
     "execution_count": 11,
     "metadata": {},
     "output_type": "execute_result"
    }
   ],
   "source": [
    "data.dtype"
   ]
  },
  {
   "cell_type": "code",
   "execution_count": 12,
   "id": "eb519500",
   "metadata": {},
   "outputs": [
    {
     "data": {
      "text/plain": [
       "numpy.ndarray"
      ]
     },
     "execution_count": 12,
     "metadata": {},
     "output_type": "execute_result"
    }
   ],
   "source": [
    "type(data)"
   ]
  },
  {
   "cell_type": "markdown",
   "id": "a82891f0",
   "metadata": {},
   "source": [
    "# Data Cleaning "
   ]
  },
  {
   "cell_type": "code",
   "execution_count": 13,
   "id": "d1b13106",
   "metadata": {},
   "outputs": [
    {
     "data": {
      "text/plain": [
       "array([['06-10-2017', '5464', '200', '181', '6', '0', '68'],\n",
       "       ['07-10-2017', '7167', '200', '208', '6', '0', '68'],\n",
       "       ['08-10-2017', '9874', '300', '341', '5', '0', '68'],\n",
       "       ['09-10-2017', '4969', '100', '190', '8', '0', '68'],\n",
       "       ['10-10-2017', '8538', '300', '307', '5', '0', '68'],\n",
       "       ['11-10-2017', '9875', '300', '302', '5', '0', '68'],\n",
       "       ['12-10-2017', '4662', '100', '198', '8', '0', '68'],\n",
       "       ['13-10-2017', '6310', '200', '201', '6', '0', '68'],\n",
       "       ['14-10-2017', '7556', '200', '195', '6', '0', '68'],\n",
       "       ['15-10-2017', '9073', '300', '327', '5', '0', '68'],\n",
       "       ['16-10-2017', '9690', '300', '331', '5', '0', '68'],\n",
       "       ['17-10-2017', '9146', '300', '318', '5', '0', '68'],\n",
       "       ['18-10-2017', '9752', '300', '344', '5', '0', '68'],\n",
       "       ['19-10-2017', '6974', '200', '204', '6', '0', '68'],\n",
       "       ['20-10-2017', '5619', '200', '180', '6', '0', '68'],\n",
       "       ['21-10-2017', '6889', '200', '201', '6', '0', '68'],\n",
       "       ['22-10-2017', '8616', '300', '329', '5', '0', '68'],\n",
       "       ['23-10-2017', '9131', '300', '315', '5', '0', '68'],\n",
       "       ['24-10-2017', '4211', '100', '197', '8', '0', '68'],\n",
       "       ['25-10-2017', '4291', '100', '184', '8', '0', '68'],\n",
       "       ['26-10-2017', '8569', '300', '328', '5', '0', '68'],\n",
       "       ['27-10-2017', '9337', '300', '322', '5', '0', '68'],\n",
       "       ['28-10-2017', '8475', '300', '327', '5', '0', '68'],\n",
       "       ['29-10-2017', '4510', '100', '148', '8', '0', '68'],\n",
       "       ['30-10-2017', '6347', '200', '235', '6', '0', '68'],\n",
       "       ['31-10-2017', '5911', '200', '184', '6', '0', '68']], dtype='<U10')"
      ]
     },
     "execution_count": 13,
     "metadata": {},
     "output_type": "execute_result"
    }
   ],
   "source": [
    "# data has no header\n",
    "# all data is in STRING type\n",
    "\n",
    "data"
   ]
  },
  {
   "cell_type": "code",
   "execution_count": 14,
   "id": "34afa464",
   "metadata": {},
   "outputs": [
    {
     "data": {
      "text/plain": [
       "array([['06-10-2017', '07-10-2017', '08-10-2017', '09-10-2017',\n",
       "        '10-10-2017', '11-10-2017', '12-10-2017', '13-10-2017',\n",
       "        '14-10-2017', '15-10-2017', '16-10-2017', '17-10-2017',\n",
       "        '18-10-2017', '19-10-2017', '20-10-2017', '21-10-2017',\n",
       "        '22-10-2017', '23-10-2017', '24-10-2017', '25-10-2017',\n",
       "        '26-10-2017', '27-10-2017', '28-10-2017', '29-10-2017',\n",
       "        '30-10-2017', '31-10-2017'],\n",
       "       ['5464', '7167', '9874', '4969', '8538', '9875', '4662', '6310',\n",
       "        '7556', '9073', '9690', '9146', '9752', '6974', '5619', '6889',\n",
       "        '8616', '9131', '4211', '4291', '8569', '9337', '8475', '4510',\n",
       "        '6347', '5911'],\n",
       "       ['200', '200', '300', '100', '300', '300', '100', '200', '200',\n",
       "        '300', '300', '300', '300', '200', '200', '200', '300', '300',\n",
       "        '100', '100', '300', '300', '300', '100', '200', '200'],\n",
       "       ['181', '208', '341', '190', '307', '302', '198', '201', '195',\n",
       "        '327', '331', '318', '344', '204', '180', '201', '329', '315',\n",
       "        '197', '184', '328', '322', '327', '148', '235', '184'],\n",
       "       ['6', '6', '5', '8', '5', '5', '8', '6', '6', '5', '5', '5', '5',\n",
       "        '6', '6', '6', '5', '5', '8', '8', '5', '5', '5', '8', '6', '6'],\n",
       "       ['0', '0', '0', '0', '0', '0', '0', '0', '0', '0', '0', '0', '0',\n",
       "        '0', '0', '0', '0', '0', '0', '0', '0', '0', '0', '0', '0', '0'],\n",
       "       ['68', '68', '68', '68', '68', '68', '68', '68', '68', '68', '68',\n",
       "        '68', '68', '68', '68', '68', '68', '68', '68', '68', '68', '68',\n",
       "        '68', '68', '68', '68']], dtype='<U10')"
      ]
     },
     "execution_count": 14,
     "metadata": {},
     "output_type": "execute_result"
    }
   ],
   "source": [
    "data.T"
   ]
  },
  {
   "cell_type": "code",
   "execution_count": 15,
   "id": "dce4a7ba",
   "metadata": {},
   "outputs": [
    {
     "data": {
      "text/plain": [
       "array(['06-10-2017', '07-10-2017', '08-10-2017', '09-10-2017',\n",
       "       '10-10-2017', '11-10-2017', '12-10-2017', '13-10-2017',\n",
       "       '14-10-2017', '15-10-2017', '16-10-2017', '17-10-2017',\n",
       "       '18-10-2017', '19-10-2017', '20-10-2017', '21-10-2017',\n",
       "       '22-10-2017', '23-10-2017', '24-10-2017', '25-10-2017',\n",
       "       '26-10-2017', '27-10-2017', '28-10-2017', '29-10-2017',\n",
       "       '30-10-2017', '31-10-2017'], dtype='<U10')"
      ]
     },
     "execution_count": 15,
     "metadata": {},
     "output_type": "execute_result"
    }
   ],
   "source": [
    "data.T[0]"
   ]
  },
  {
   "cell_type": "code",
   "execution_count": 16,
   "id": "fa869efa",
   "metadata": {},
   "outputs": [
    {
     "data": {
      "text/plain": [
       "array(['200', '200', '300', '100', '300', '300', '100', '200', '200',\n",
       "       '300', '300', '300', '300', '200', '200', '200', '300', '300',\n",
       "       '100', '100', '300', '300', '300', '100', '200', '200'],\n",
       "      dtype='<U10')"
      ]
     },
     "execution_count": 16,
     "metadata": {},
     "output_type": "execute_result"
    }
   ],
   "source": [
    "data.T[2]"
   ]
  },
  {
   "cell_type": "code",
   "execution_count": 17,
   "id": "4e3f8b01",
   "metadata": {},
   "outputs": [
    {
     "ename": "IndexError",
     "evalue": "index 9 is out of bounds for axis 0 with size 7",
     "output_type": "error",
     "traceback": [
      "\u001b[1;31m---------------------------------------------------------------------------\u001b[0m",
      "\u001b[1;31mIndexError\u001b[0m                                Traceback (most recent call last)",
      "Cell \u001b[1;32mIn[17], line 1\u001b[0m\n\u001b[1;32m----> 1\u001b[0m data\u001b[38;5;241m.\u001b[39mT[\u001b[38;5;241m9\u001b[39m]\n",
      "\u001b[1;31mIndexError\u001b[0m: index 9 is out of bounds for axis 0 with size 7"
     ]
    }
   ],
   "source": [
    "data.T[9]"
   ]
  },
  {
   "cell_type": "code",
   "execution_count": 18,
   "id": "b1ac999c",
   "metadata": {},
   "outputs": [
    {
     "data": {
      "text/plain": [
       "array(['68', '68', '68', '68', '68', '68', '68', '68', '68', '68', '68',\n",
       "       '68', '68', '68', '68', '68', '68', '68', '68', '68', '68', '68',\n",
       "       '68', '68', '68', '68'], dtype='<U10')"
      ]
     },
     "execution_count": 18,
     "metadata": {},
     "output_type": "execute_result"
    }
   ],
   "source": [
    "data.T[6]"
   ]
  },
  {
   "cell_type": "markdown",
   "id": "e392a3cc",
   "metadata": {},
   "source": [
    "# Packing of Tuple\n",
    "\n"
   ]
  },
  {
   "cell_type": "code",
   "execution_count": 19,
   "id": "7e39d052",
   "metadata": {},
   "outputs": [
    {
     "name": "stdout",
     "output_type": "stream",
     "text": [
      "11\n",
      "22\n",
      "33\n"
     ]
    }
   ],
   "source": [
    "tup1 = (11,22,33,44,55,66) #packing of tuple\n",
    "print(tup1[0])\n",
    "print(tup1[1])\n",
    "print(tup1[2])\n"
   ]
  },
  {
   "cell_type": "markdown",
   "id": "9f4cbfa8",
   "metadata": {},
   "source": [
    "# Unpacking of tuple"
   ]
  },
  {
   "cell_type": "code",
   "execution_count": 20,
   "id": "5ef08d44",
   "metadata": {},
   "outputs": [
    {
     "name": "stdout",
     "output_type": "stream",
     "text": [
      "11\n",
      "22\n",
      "33\n"
     ]
    }
   ],
   "source": [
    "a,b,c,d,e,f=tup1\n",
    "print(a)\n",
    "print(b)\n",
    "print(c)\n"
   ]
  },
  {
   "cell_type": "code",
   "execution_count": 21,
   "id": "fdaf7912",
   "metadata": {},
   "outputs": [],
   "source": [
    "date ,step_count,mood,calories_burned,hours_of_sleep,bool_of_active,weight_kg=data.T"
   ]
  },
  {
   "cell_type": "code",
   "execution_count": 22,
   "id": "5a384fe9",
   "metadata": {},
   "outputs": [
    {
     "data": {
      "text/plain": [
       "array(['06-10-2017', '07-10-2017', '08-10-2017', '09-10-2017',\n",
       "       '10-10-2017', '11-10-2017', '12-10-2017', '13-10-2017',\n",
       "       '14-10-2017', '15-10-2017', '16-10-2017', '17-10-2017',\n",
       "       '18-10-2017', '19-10-2017', '20-10-2017', '21-10-2017',\n",
       "       '22-10-2017', '23-10-2017', '24-10-2017', '25-10-2017',\n",
       "       '26-10-2017', '27-10-2017', '28-10-2017', '29-10-2017',\n",
       "       '30-10-2017', '31-10-2017'], dtype='<U10')"
      ]
     },
     "execution_count": 22,
     "metadata": {},
     "output_type": "execute_result"
    }
   ],
   "source": [
    "date"
   ]
  },
  {
   "cell_type": "code",
   "execution_count": 23,
   "id": "88b2dc6b",
   "metadata": {},
   "outputs": [
    {
     "data": {
      "text/plain": [
       "array(['181', '208', '341', '190', '307', '302', '198', '201', '195',\n",
       "       '327', '331', '318', '344', '204', '180', '201', '329', '315',\n",
       "       '197', '184', '328', '322', '327', '148', '235', '184'],\n",
       "      dtype='<U10')"
      ]
     },
     "execution_count": 23,
     "metadata": {},
     "output_type": "execute_result"
    }
   ],
   "source": [
    "calories_burned"
   ]
  },
  {
   "cell_type": "code",
   "execution_count": 24,
   "id": "7239c90c",
   "metadata": {},
   "outputs": [
    {
     "data": {
      "text/plain": [
       "array(['68', '68', '68', '68', '68', '68', '68', '68', '68', '68', '68',\n",
       "       '68', '68', '68', '68', '68', '68', '68', '68', '68', '68', '68',\n",
       "       '68', '68', '68', '68'], dtype='<U10')"
      ]
     },
     "execution_count": 24,
     "metadata": {},
     "output_type": "execute_result"
    }
   ],
   "source": [
    "weight_kg"
   ]
  },
  {
   "cell_type": "code",
   "execution_count": 25,
   "id": "5f418774",
   "metadata": {},
   "outputs": [
    {
     "data": {
      "text/plain": [
       "array(['6', '6', '5', '8', '5', '5', '8', '6', '6', '5', '5', '5', '5',\n",
       "       '6', '6', '6', '5', '5', '8', '8', '5', '5', '5', '8', '6', '6'],\n",
       "      dtype='<U10')"
      ]
     },
     "execution_count": 25,
     "metadata": {},
     "output_type": "execute_result"
    }
   ],
   "source": [
    "hours_of_sleep"
   ]
  },
  {
   "cell_type": "code",
   "execution_count": 26,
   "id": "416e3ebe",
   "metadata": {},
   "outputs": [
    {
     "data": {
      "text/plain": [
       "array(['5464', '7167', '9874', '4969', '8538', '9875', '4662', '6310',\n",
       "       '7556', '9073', '9690', '9146', '9752', '6974', '5619', '6889',\n",
       "       '8616', '9131', '4211', '4291', '8569', '9337', '8475', '4510',\n",
       "       '6347', '5911'], dtype='<U10')"
      ]
     },
     "execution_count": 26,
     "metadata": {},
     "output_type": "execute_result"
    }
   ],
   "source": [
    "step_count"
   ]
  },
  {
   "cell_type": "code",
   "execution_count": 27,
   "id": "9a17e30d",
   "metadata": {},
   "outputs": [
    {
     "data": {
      "text/plain": [
       "numpy.ndarray"
      ]
     },
     "execution_count": 27,
     "metadata": {},
     "output_type": "execute_result"
    }
   ],
   "source": [
    "type(step_count)"
   ]
  },
  {
   "cell_type": "code",
   "execution_count": 28,
   "id": "ec2d6eb4",
   "metadata": {},
   "outputs": [],
   "source": [
    "step_count = np.array(step_count,dtype='int')"
   ]
  },
  {
   "cell_type": "code",
   "execution_count": 29,
   "id": "0ac80056",
   "metadata": {},
   "outputs": [
    {
     "data": {
      "text/plain": [
       "array([5464, 7167, 9874, 4969, 8538, 9875, 4662, 6310, 7556, 9073, 9690,\n",
       "       9146, 9752, 6974, 5619, 6889, 8616, 9131, 4211, 4291, 8569, 9337,\n",
       "       8475, 4510, 6347, 5911])"
      ]
     },
     "execution_count": 29,
     "metadata": {},
     "output_type": "execute_result"
    }
   ],
   "source": [
    "step_count"
   ]
  },
  {
   "cell_type": "code",
   "execution_count": 30,
   "id": "a06e7637",
   "metadata": {},
   "outputs": [
    {
     "data": {
      "text/plain": [
       "dtype('int32')"
      ]
     },
     "execution_count": 30,
     "metadata": {},
     "output_type": "execute_result"
    }
   ],
   "source": [
    "step_count.dtype"
   ]
  },
  {
   "cell_type": "markdown",
   "id": "86400130",
   "metadata": {},
   "source": [
    "# DataTypes in Numpy"
   ]
  },
  {
   "cell_type": "code",
   "execution_count": 31,
   "id": "9114b233",
   "metadata": {},
   "outputs": [
    {
     "data": {
      "text/plain": [
       "dtype('int32')"
      ]
     },
     "execution_count": 31,
     "metadata": {},
     "output_type": "execute_result"
    }
   ],
   "source": [
    "step_count.dtype"
   ]
  },
  {
   "cell_type": "code",
   "execution_count": 32,
   "id": "5e81d7a8",
   "metadata": {},
   "outputs": [
    {
     "data": {
      "text/plain": [
       "numpy.ndarray"
      ]
     },
     "execution_count": 32,
     "metadata": {},
     "output_type": "execute_result"
    }
   ],
   "source": [
    "type(step_count)"
   ]
  },
  {
   "cell_type": "code",
   "execution_count": 33,
   "id": "2d3790e3",
   "metadata": {},
   "outputs": [],
   "source": [
    "# Changing the 'str' dataType in 'int'\n",
    "\n",
    "step_count = np.array(step_count,dtype = 'int')"
   ]
  },
  {
   "cell_type": "code",
   "execution_count": 34,
   "id": "74f60db4",
   "metadata": {},
   "outputs": [
    {
     "data": {
      "text/plain": [
       "dtype('int32')"
      ]
     },
     "execution_count": 34,
     "metadata": {},
     "output_type": "execute_result"
    }
   ],
   "source": [
    "step_count.dtype"
   ]
  },
  {
   "cell_type": "code",
   "execution_count": 35,
   "id": "d5aba7f5",
   "metadata": {},
   "outputs": [],
   "source": [
    "calories_burned = np.array(calories_burned,dtype = 'int')\n",
    "hours_of_sleep = np.array(hours_of_sleep,dtype = \"int\")\n",
    "weight_kg = np.array(weight_kg,dtype = \"int\")"
   ]
  },
  {
   "cell_type": "code",
   "execution_count": 36,
   "id": "0908319d",
   "metadata": {},
   "outputs": [
    {
     "data": {
      "text/plain": [
       "dtype('int32')"
      ]
     },
     "execution_count": 36,
     "metadata": {},
     "output_type": "execute_result"
    }
   ],
   "source": [
    "calories_burned.dtype"
   ]
  },
  {
   "cell_type": "code",
   "execution_count": 37,
   "id": "e7fcf128",
   "metadata": {},
   "outputs": [
    {
     "data": {
      "text/plain": [
       "dtype('int32')"
      ]
     },
     "execution_count": 37,
     "metadata": {},
     "output_type": "execute_result"
    }
   ],
   "source": [
    "hours_of_sleep.dtype"
   ]
  },
  {
   "cell_type": "code",
   "execution_count": 38,
   "id": "a19b7b72",
   "metadata": {},
   "outputs": [
    {
     "data": {
      "text/plain": [
       "dtype('int32')"
      ]
     },
     "execution_count": 38,
     "metadata": {},
     "output_type": "execute_result"
    }
   ],
   "source": [
    "weight_kg.dtype"
   ]
  },
  {
   "cell_type": "code",
   "execution_count": 39,
   "id": "d343b0a1",
   "metadata": {},
   "outputs": [
    {
     "data": {
      "text/plain": [
       "array([181, 208, 341, 190, 307, 302, 198, 201, 195, 327, 331, 318, 344,\n",
       "       204, 180, 201, 329, 315, 197, 184, 328, 322, 327, 148, 235, 184])"
      ]
     },
     "execution_count": 39,
     "metadata": {},
     "output_type": "execute_result"
    }
   ],
   "source": [
    "calories_burned"
   ]
  },
  {
   "cell_type": "code",
   "execution_count": 40,
   "id": "27bec72c",
   "metadata": {},
   "outputs": [
    {
     "data": {
      "text/plain": [
       "array([6, 6, 5, 8, 5, 5, 8, 6, 6, 5, 5, 5, 5, 6, 6, 6, 5, 5, 8, 8, 5, 5,\n",
       "       5, 8, 6, 6])"
      ]
     },
     "execution_count": 40,
     "metadata": {},
     "output_type": "execute_result"
    }
   ],
   "source": [
    "hours_of_sleep"
   ]
  },
  {
   "cell_type": "code",
   "execution_count": 41,
   "id": "af7b4402",
   "metadata": {},
   "outputs": [
    {
     "data": {
      "text/plain": [
       "array([68, 68, 68, 68, 68, 68, 68, 68, 68, 68, 68, 68, 68, 68, 68, 68, 68,\n",
       "       68, 68, 68, 68, 68, 68, 68, 68, 68])"
      ]
     },
     "execution_count": 41,
     "metadata": {},
     "output_type": "execute_result"
    }
   ],
   "source": [
    "weight_kg"
   ]
  },
  {
   "cell_type": "code",
   "execution_count": 42,
   "id": "31036675",
   "metadata": {},
   "outputs": [],
   "source": [
    "# focussing on 'mood' data\n",
    "# data is in numerical form but is repetative\n",
    "# checking the pattern of data "
   ]
  },
  {
   "cell_type": "code",
   "execution_count": 43,
   "id": "0fa6c4a7",
   "metadata": {},
   "outputs": [
    {
     "data": {
      "text/plain": [
       "array(['200', '200', '300', '100', '300', '300', '100', '200', '200',\n",
       "       '300', '300', '300', '300', '200', '200', '200', '300', '300',\n",
       "       '100', '100', '300', '300', '300', '100', '200', '200'],\n",
       "      dtype='<U10')"
      ]
     },
     "execution_count": 43,
     "metadata": {},
     "output_type": "execute_result"
    }
   ],
   "source": [
    "mood"
   ]
  },
  {
   "cell_type": "code",
   "execution_count": 44,
   "id": "52515820",
   "metadata": {},
   "outputs": [],
   "source": [
    "# mood data is categorical"
   ]
  },
  {
   "cell_type": "code",
   "execution_count": 45,
   "id": "1edcef87",
   "metadata": {},
   "outputs": [],
   "source": [
    "# 100 = sad\n",
    "# 200 =  neutral\n",
    "# 300 = happy"
   ]
  },
  {
   "cell_type": "code",
   "execution_count": 46,
   "id": "76dc7148",
   "metadata": {},
   "outputs": [
    {
     "data": {
      "text/plain": [
       "array(['100', '200', '300'], dtype='<U10')"
      ]
     },
     "execution_count": 46,
     "metadata": {},
     "output_type": "execute_result"
    }
   ],
   "source": [
    "np.unique(mood)"
   ]
  },
  {
   "cell_type": "code",
   "execution_count": 47,
   "id": "4215ef6c",
   "metadata": {},
   "outputs": [
    {
     "data": {
      "text/plain": [
       "array(['200', '200', '300', '100', '300', '300', '100', '200', '200',\n",
       "       '300', '300', '300', '300', '200', '200', '200', '300', '300',\n",
       "       '100', '100', '300', '300', '300', '100', '200', '200'],\n",
       "      dtype='<U10')"
      ]
     },
     "execution_count": 47,
     "metadata": {},
     "output_type": "execute_result"
    }
   ],
   "source": [
    "mood"
   ]
  },
  {
   "cell_type": "code",
   "execution_count": 48,
   "id": "64df64a9",
   "metadata": {},
   "outputs": [
    {
     "data": {
      "text/plain": [
       "array([False, False, False,  True, False, False,  True, False, False,\n",
       "       False, False, False, False, False, False, False, False, False,\n",
       "        True,  True, False, False, False,  True, False, False])"
      ]
     },
     "execution_count": 48,
     "metadata": {},
     "output_type": "execute_result"
    }
   ],
   "source": [
    "mood == '100' #100 == 'Sad'"
   ]
  },
  {
   "cell_type": "code",
   "execution_count": 49,
   "id": "32132cd1",
   "metadata": {},
   "outputs": [],
   "source": [
    "mood[mood == '100'] ='Sad'"
   ]
  },
  {
   "cell_type": "code",
   "execution_count": 50,
   "id": "1f186825",
   "metadata": {},
   "outputs": [
    {
     "data": {
      "text/plain": [
       "array(['200', '200', '300', 'Sad', '300', '300', 'Sad', '200', '200',\n",
       "       '300', '300', '300', '300', '200', '200', '200', '300', '300',\n",
       "       'Sad', 'Sad', '300', '300', '300', 'Sad', '200', '200'],\n",
       "      dtype='<U10')"
      ]
     },
     "execution_count": 50,
     "metadata": {},
     "output_type": "execute_result"
    }
   ],
   "source": [
    "mood"
   ]
  },
  {
   "cell_type": "code",
   "execution_count": 51,
   "id": "ba870af2",
   "metadata": {},
   "outputs": [
    {
     "data": {
      "text/plain": [
       "array([ True,  True, False, False, False, False, False,  True,  True,\n",
       "       False, False, False, False,  True,  True,  True, False, False,\n",
       "       False, False, False, False, False, False,  True,  True])"
      ]
     },
     "execution_count": 51,
     "metadata": {},
     "output_type": "execute_result"
    }
   ],
   "source": [
    "mood == '200' #200 == 'Neutral'"
   ]
  },
  {
   "cell_type": "code",
   "execution_count": 52,
   "id": "ce7d92cf",
   "metadata": {},
   "outputs": [],
   "source": [
    "mood[mood == '200'] = 'Neutral'"
   ]
  },
  {
   "cell_type": "code",
   "execution_count": 53,
   "id": "8a751c74",
   "metadata": {},
   "outputs": [
    {
     "data": {
      "text/plain": [
       "array(['Neutral', 'Neutral', '300', 'Sad', '300', '300', 'Sad', 'Neutral',\n",
       "       'Neutral', '300', '300', '300', '300', 'Neutral', 'Neutral',\n",
       "       'Neutral', '300', '300', 'Sad', 'Sad', '300', '300', '300', 'Sad',\n",
       "       'Neutral', 'Neutral'], dtype='<U10')"
      ]
     },
     "execution_count": 53,
     "metadata": {},
     "output_type": "execute_result"
    }
   ],
   "source": [
    "mood"
   ]
  },
  {
   "cell_type": "code",
   "execution_count": 54,
   "id": "8fd75318",
   "metadata": {},
   "outputs": [],
   "source": [
    "mood[mood == '300'] = 'Happy'"
   ]
  },
  {
   "cell_type": "code",
   "execution_count": 55,
   "id": "c4a16605",
   "metadata": {},
   "outputs": [
    {
     "data": {
      "text/plain": [
       "array(['Neutral', 'Neutral', 'Happy', 'Sad', 'Happy', 'Happy', 'Sad',\n",
       "       'Neutral', 'Neutral', 'Happy', 'Happy', 'Happy', 'Happy',\n",
       "       'Neutral', 'Neutral', 'Neutral', 'Happy', 'Happy', 'Sad', 'Sad',\n",
       "       'Happy', 'Happy', 'Happy', 'Sad', 'Neutral', 'Neutral'],\n",
       "      dtype='<U10')"
      ]
     },
     "execution_count": 55,
     "metadata": {},
     "output_type": "execute_result"
    }
   ],
   "source": [
    "mood"
   ]
  },
  {
   "cell_type": "code",
   "execution_count": 56,
   "id": "580425d2",
   "metadata": {},
   "outputs": [
    {
     "data": {
      "text/plain": [
       "array(['Happy', 'Neutral', 'Sad'], dtype='<U10')"
      ]
     },
     "execution_count": 56,
     "metadata": {},
     "output_type": "execute_result"
    }
   ],
   "source": [
    "np.unique(mood)"
   ]
  },
  {
   "cell_type": "markdown",
   "id": "b144ddb9",
   "metadata": {},
   "source": [
    "# filterning the data"
   ]
  },
  {
   "cell_type": "code",
   "execution_count": 65,
   "id": "36cd4220",
   "metadata": {},
   "outputs": [],
   "source": [
    "# use the boolean masking for filtering the data."
   ]
  },
  {
   "cell_type": "code",
   "execution_count": 67,
   "id": "49ecbf7f",
   "metadata": {},
   "outputs": [
    {
     "data": {
      "text/plain": [
       "array([['06-10-2017', '5464', 'Neutral', '181', '6', '0', '68'],\n",
       "       ['07-10-2017', '7167', 'Neutral', '208', '6', '0', '68'],\n",
       "       ['08-10-2017', '9874', 'Happy', '341', '5', '0', '68'],\n",
       "       ['09-10-2017', '4969', 'Sad', '190', '8', '0', '68'],\n",
       "       ['10-10-2017', '8538', 'Happy', '307', '5', '0', '68'],\n",
       "       ['11-10-2017', '9875', 'Happy', '302', '5', '0', '68'],\n",
       "       ['12-10-2017', '4662', 'Sad', '198', '8', '0', '68'],\n",
       "       ['13-10-2017', '6310', 'Neutral', '201', '6', '0', '68'],\n",
       "       ['14-10-2017', '7556', 'Neutral', '195', '6', '0', '68'],\n",
       "       ['15-10-2017', '9073', 'Happy', '327', '5', '0', '68'],\n",
       "       ['16-10-2017', '9690', 'Happy', '331', '5', '0', '68'],\n",
       "       ['17-10-2017', '9146', 'Happy', '318', '5', '0', '68'],\n",
       "       ['18-10-2017', '9752', 'Happy', '344', '5', '0', '68'],\n",
       "       ['19-10-2017', '6974', 'Neutral', '204', '6', '0', '68'],\n",
       "       ['20-10-2017', '5619', 'Neutral', '180', '6', '0', '68'],\n",
       "       ['21-10-2017', '6889', 'Neutral', '201', '6', '0', '68'],\n",
       "       ['22-10-2017', '8616', 'Happy', '329', '5', '0', '68'],\n",
       "       ['23-10-2017', '9131', 'Happy', '315', '5', '0', '68'],\n",
       "       ['24-10-2017', '4211', 'Sad', '197', '8', '0', '68'],\n",
       "       ['25-10-2017', '4291', 'Sad', '184', '8', '0', '68'],\n",
       "       ['26-10-2017', '8569', 'Happy', '328', '5', '0', '68'],\n",
       "       ['27-10-2017', '9337', 'Happy', '322', '5', '0', '68'],\n",
       "       ['28-10-2017', '8475', 'Happy', '327', '5', '0', '68'],\n",
       "       ['29-10-2017', '4510', 'Sad', '148', '8', '0', '68'],\n",
       "       ['30-10-2017', '6347', 'Neutral', '235', '6', '0', '68'],\n",
       "       ['31-10-2017', '5911', 'Neutral', '184', '6', '0', '68']],\n",
       "      dtype='<U10')"
      ]
     },
     "execution_count": 67,
     "metadata": {},
     "output_type": "execute_result"
    }
   ],
   "source": [
    "data"
   ]
  },
  {
   "cell_type": "code",
   "execution_count": null,
   "id": "5eb9f4e8",
   "metadata": {},
   "outputs": [],
   "source": []
  }
 ],
 "metadata": {
  "kernelspec": {
   "display_name": "Python 3 (ipykernel)",
   "language": "python",
   "name": "python3"
  },
  "language_info": {
   "codemirror_mode": {
    "name": "ipython",
    "version": 3
   },
   "file_extension": ".py",
   "mimetype": "text/x-python",
   "name": "python",
   "nbconvert_exporter": "python",
   "pygments_lexer": "ipython3",
   "version": "3.11.3"
  }
 },
 "nbformat": 4,
 "nbformat_minor": 5
}
