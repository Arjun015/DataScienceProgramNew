{
 "cells": [
  {
   "cell_type": "code",
   "execution_count": 1,
   "id": "460ac311",
   "metadata": {},
   "outputs": [],
   "source": [
    "# Start ---->   23 Feb 2024 ,thursday "
   ]
  },
  {
   "cell_type": "code",
   "execution_count": 2,
   "id": "5468f31e",
   "metadata": {},
   "outputs": [],
   "source": [
    "# 1. CMD\n",
    "# 2. jupyter notebook > this service/ widow should always be running\n",
    "# 3. default location > http://localhost:8888/tree\n",
    "# 4. / means C:\\ is root Folder\n",
    "# 5. Create a new Python file"
   ]
  },
  {
   "cell_type": "markdown",
   "id": "9d0e4d66",
   "metadata": {},
   "source": [
    "#  Intro to Numpy\n"
   ]
  },
  {
   "cell_type": "code",
   "execution_count": 3,
   "id": "9dde1846",
   "metadata": {},
   "outputs": [],
   "source": [
    "# https://numpy.org/doc/stable/user/quickstart.html#an-example"
   ]
  },
  {
   "cell_type": "code",
   "execution_count": 4,
   "id": "e1b0df36",
   "metadata": {},
   "outputs": [
    {
     "name": "stdout",
     "output_type": "stream",
     "text": [
      "[1, 2, 3, 4, 5, 6, 7, 8]\n"
     ]
    }
   ],
   "source": [
    "a1 = [1,2,3,4,5,6,7,8]\n",
    "print(a1)"
   ]
  },
  {
   "cell_type": "code",
   "execution_count": 5,
   "id": "1bc6934f",
   "metadata": {},
   "outputs": [
    {
     "name": "stdout",
     "output_type": "stream",
     "text": [
      "[11, 12, 13, 14, 15, 16]\n"
     ]
    }
   ],
   "source": [
    "a2 = [11,12,13,14,15,16]\n",
    "print(a2)"
   ]
  },
  {
   "cell_type": "code",
   "execution_count": 6,
   "id": "59ebd021",
   "metadata": {},
   "outputs": [
    {
     "name": "stdout",
     "output_type": "stream",
     "text": [
      "[1, 2, 3, 4, 5, 6, 7, 8, 1, 2, 3, 4, 5, 6, 7, 8]\n"
     ]
    }
   ],
   "source": [
    "# make elements doubles in list\n",
    "a1 = [1,2,3,4,5,6,7,8]\n",
    "print(a1 *2)"
   ]
  },
  {
   "cell_type": "code",
   "execution_count": 8,
   "id": "9a30a89f",
   "metadata": {},
   "outputs": [
    {
     "name": "stdout",
     "output_type": "stream",
     "text": [
      "2\n",
      "4\n",
      "6\n",
      "8\n",
      "10\n",
      "12\n",
      "14\n",
      "16\n"
     ]
    }
   ],
   "source": [
    "# need to be apply loop\n",
    "\n",
    "for i in a1:\n",
    "    print(i*2)"
   ]
  },
  {
   "cell_type": "code",
   "execution_count": 9,
   "id": "963a02f5",
   "metadata": {},
   "outputs": [
    {
     "name": "stdout",
     "output_type": "stream",
     "text": [
      "22\n",
      "24\n",
      "26\n",
      "28\n",
      "30\n",
      "32\n"
     ]
    }
   ],
   "source": [
    "for i in a2:\n",
    "    print(i*2)"
   ]
  },
  {
   "cell_type": "code",
   "execution_count": 11,
   "id": "048b51be",
   "metadata": {},
   "outputs": [
    {
     "name": "stdout",
     "output_type": "stream",
     "text": [
      "[2, 4, 6, 8, 10, 12, 14, 16]\n"
     ]
    }
   ],
   "source": [
    "# also use list comprehension to achive this task in one line :\n",
    "\n",
    "aa = [i*2 for i in a1]\n",
    "print(aa)"
   ]
  },
  {
   "cell_type": "code",
   "execution_count": 12,
   "id": "1ce8b2c8",
   "metadata": {},
   "outputs": [
    {
     "name": "stdout",
     "output_type": "stream",
     "text": [
      "[22, 24, 26, 28, 30, 32]\n"
     ]
    }
   ],
   "source": [
    "bb = [i*2 for i in a2]\n",
    "print(bb)"
   ]
  },
  {
   "cell_type": "code",
   "execution_count": 18,
   "id": "b13ee6b9",
   "metadata": {},
   "outputs": [
    {
     "name": "stdout",
     "output_type": "stream",
     "text": [
      "[1, 2, 3, 4, 5, 6, 7, 8]\n",
      "1\n",
      "4\n",
      "9\n",
      "16\n",
      "25\n",
      "36\n",
      "49\n",
      "64\n"
     ]
    }
   ],
   "source": [
    "# Q:make Sqare of this elements\n",
    "\n",
    "print(a1)\n",
    "for i in a1:\n",
    "    print(i**2)\n",
    "    "
   ]
  },
  {
   "cell_type": "code",
   "execution_count": 19,
   "id": "95f1cb89",
   "metadata": {},
   "outputs": [
    {
     "name": "stdout",
     "output_type": "stream",
     "text": [
      "121\n",
      "144\n",
      "169\n",
      "196\n",
      "225\n",
      "256\n"
     ]
    }
   ],
   "source": [
    "for i in a2:\n",
    "    print(i**2)"
   ]
  },
  {
   "cell_type": "markdown",
   "id": "c78fc872",
   "metadata": {},
   "source": [
    "# better approach ???"
   ]
  },
  {
   "cell_type": "code",
   "execution_count": 20,
   "id": "96438d0a",
   "metadata": {},
   "outputs": [],
   "source": [
    "import numpy as np"
   ]
  },
  {
   "cell_type": "code",
   "execution_count": 21,
   "id": "30ef98fc",
   "metadata": {},
   "outputs": [
    {
     "name": "stdout",
     "output_type": "stream",
     "text": [
      "Hello World\n"
     ]
    }
   ],
   "source": [
    "print('Hello World')"
   ]
  },
  {
   "cell_type": "code",
   "execution_count": 22,
   "id": "9f34f7d3",
   "metadata": {},
   "outputs": [
    {
     "name": "stdout",
     "output_type": "stream",
     "text": [
      "Welcome to in DataScience Program\n"
     ]
    }
   ],
   "source": [
    "print('Welcome to in DataScience Program')"
   ]
  },
  {
   "cell_type": "code",
   "execution_count": 24,
   "id": "f5a5cf67",
   "metadata": {},
   "outputs": [
    {
     "name": "stdout",
     "output_type": "stream",
     "text": [
      "arjun jadhav\n"
     ]
    }
   ],
   "source": [
    "name = \"Arjun Jadhav\"\n",
    "print(name.casefold()) # to convert small case"
   ]
  },
  {
   "cell_type": "code",
   "execution_count": 25,
   "id": "390a1cc0",
   "metadata": {},
   "outputs": [
    {
     "name": "stdout",
     "output_type": "stream",
     "text": [
      "[ 1  2  3  4  5  6  7  8  9 10]\n"
     ]
    }
   ],
   "source": [
    "a1 = [1,2,3,4,5,6,7,8,9,10]\n",
    "arr1 = np.array(a1)\n",
    "print(arr1)"
   ]
  },
  {
   "cell_type": "code",
   "execution_count": 26,
   "id": "52ed00c5",
   "metadata": {},
   "outputs": [
    {
     "name": "stdout",
     "output_type": "stream",
     "text": [
      "[ 2  4  6  8 10 12 14 16 18 20]\n"
     ]
    }
   ],
   "source": [
    "print(arr1 * 2)"
   ]
  },
  {
   "cell_type": "code",
   "execution_count": 27,
   "id": "614d6b40",
   "metadata": {},
   "outputs": [
    {
     "name": "stdout",
     "output_type": "stream",
     "text": [
      "[ 2  4  6  8 10 12 14 16 18 20]\n"
     ]
    }
   ],
   "source": [
    "print(arr1*2)  #numpy supports elemntwise operation "
   ]
  },
  {
   "cell_type": "code",
   "execution_count": 28,
   "id": "12d1f8fa",
   "metadata": {},
   "outputs": [
    {
     "name": "stdout",
     "output_type": "stream",
     "text": [
      "[  1   4   9  16  25  36  49  64  81 100]\n"
     ]
    }
   ],
   "source": [
    "print(arr1 ** 2)"
   ]
  },
  {
   "cell_type": "code",
   "execution_count": 29,
   "id": "ab656c32",
   "metadata": {},
   "outputs": [
    {
     "name": "stdout",
     "output_type": "stream",
     "text": [
      "[     1     32    243   1024   3125   7776  16807  32768  59049 100000]\n"
     ]
    }
   ],
   "source": [
    "print(arr1 ** 5)"
   ]
  },
  {
   "cell_type": "code",
   "execution_count": null,
   "id": "b6a4ba37",
   "metadata": {},
   "outputs": [],
   "source": []
  }
 ],
 "metadata": {
  "kernelspec": {
   "display_name": "Python 3 (ipykernel)",
   "language": "python",
   "name": "python3"
  },
  "language_info": {
   "codemirror_mode": {
    "name": "ipython",
    "version": 3
   },
   "file_extension": ".py",
   "mimetype": "text/x-python",
   "name": "python",
   "nbconvert_exporter": "python",
   "pygments_lexer": "ipython3",
   "version": "3.11.3"
  }
 },
 "nbformat": 4,
 "nbformat_minor": 5
}
